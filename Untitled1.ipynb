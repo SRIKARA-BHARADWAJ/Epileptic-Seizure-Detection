{
 "cells": [
  {
   "cell_type": "code",
   "execution_count": 1,
   "id": "e87021f3-486f-4ada-ab04-f91e747348f1",
   "metadata": {
    "tags": []
   },
   "outputs": [],
   "source": [
    "from keras.models import load_model\n",
    "from keras.utils import np_utils\n",
    "import numpy as np\n",
    "import pandas as pd\n",
    "import tensorflow as tensor\n",
    "from skimage.transform import resize \n",
    "# Load the model\n",
    "model = load_model('Seizure_Detector.h5')"
   ]
  },
  {
   "cell_type": "code",
   "execution_count": 28,
   "id": "71da6166-5403-44e6-b39b-e160b29d1005",
   "metadata": {
    "tags": []
   },
   "outputs": [],
   "source": [
    "# Load the data\n",
    "data = pd.read_csv('data.csv')\n",
    "x_values = data.values[:, 1:-1].reshape(-1, 178, 1)\n",
    "y_values = np.array(data['y'])\n",
    "y_values = np_utils.to_categorical(y_values)\n",
    "#print(x_values)"
   ]
  },
  {
   "cell_type": "code",
   "execution_count": 62,
   "id": "82458dbb-b033-4afc-a6a6-76ea7e05f4f5",
   "metadata": {
    "tags": []
   },
   "outputs": [
    {
     "name": "stdout",
     "output_type": "stream",
     "text": [
      "Row Number: 123\n",
      "Row Shape: (1, 178, 1)\n"
     ]
    }
   ],
   "source": [
    "# Select a row for prediction\n",
    "row_num = 123\n",
    "row = x_values[row_num].reshape(-1, 178, 1)\n",
    "print(\"Row Number: {}\\nRow Shape: {}\".format(row_num, row.shape))\n",
    "row = row[:,0:45].reshape(45,1)\n",
    "np.shape(row)\n",
    "x_mean = x_values.mean()\n",
    "x_std = x_values.std()\n",
    "x_values_normalized = ((x_values - x_mean) / x_std)\n",
    "row_tensor = tensor.convert_to_tensor(row, dtype=tensor.float32)\n",
    "row_normalized=((row_tensor-x_mean)/x_std)"
   ]
  },
  {
   "cell_type": "code",
   "execution_count": 63,
   "id": "830d5789-2819-4a56-9bc0-938c9d34e704",
   "metadata": {
    "tags": []
   },
   "outputs": [
    {
     "name": "stdout",
     "output_type": "stream",
     "text": [
      "2/2 [==============================] - 0s 5ms/step\n",
      "Predictions Shape: (45, 5)\n",
      "Seizure Detected and Exact Category: 1\n"
     ]
    }
   ],
   "source": [
    "# Convert row to TensorFlow Tensor\n",
    "\n",
    "# # Convert row to TensorFlow Tensor\n",
    "# row_tensor = tensor.convert_to_tensor(((row - x_mean) / x_std), dtype=tensor.float64)\n",
    "# print (row_tensor.dtype)\n",
    "predictions = model.predict(row_normalized)\n",
    "print(\"Predictions Shape: {}\".format(predictions.shape))\n",
    "# Pass the data into the model and retrieve predictions\n",
    "# predictions = model.predict(((row - x_mean) / x_std))\n",
    "# print(\"Predictions Shape: {}\".format(predictions.shape))\n",
    "\n",
    "# Normalize the predictions\n",
    "result = np.argmax(predictions[0]) + 1\n",
    "\n",
    "# Print the result\n",
    "if result == 1:\n",
    "    result_str = \"Seizure Detected\"\n",
    "else:\n",
    "    result_str = \"No Seizure Detected\"\n",
    "\n",
    "result_str = result_str + \" and Exact Category: \" + str(result)\n",
    "\n",
    "print(result_str)"
   ]
  },
  {
   "cell_type": "code",
   "execution_count": null,
   "id": "f699098a-db0b-4de4-8d53-bed21a99ea1d",
   "metadata": {},
   "outputs": [],
   "source": []
  }
 ],
 "metadata": {
  "kernelspec": {
   "display_name": "Python 3 (ipykernel)",
   "language": "python",
   "name": "python3"
  },
  "language_info": {
   "codemirror_mode": {
    "name": "ipython",
    "version": 3
   },
   "file_extension": ".py",
   "mimetype": "text/x-python",
   "name": "python",
   "nbconvert_exporter": "python",
   "pygments_lexer": "ipython3",
   "version": "3.11.2"
  }
 },
 "nbformat": 4,
 "nbformat_minor": 5
}
