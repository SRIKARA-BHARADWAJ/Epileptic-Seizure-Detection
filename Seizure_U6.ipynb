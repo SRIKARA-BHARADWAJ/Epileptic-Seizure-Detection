{
 "cells": [
  {
   "cell_type": "markdown",
   "id": "968e96c6-079d-43e7-8e0c-c8ce71fa5dcf",
   "metadata": {
    "tags": []
   },
   "source": [
    "# EEG based Seizure detection"
   ]
  },
  {
   "cell_type": "markdown",
   "id": "93fbf53f-d28c-404a-b2af-5160f9a7bc70",
   "metadata": {
    "tags": []
   },
   "source": [
    "### Import Libraries"
   ]
  },
  {
   "cell_type": "code",
   "execution_count": 2,
   "id": "ee9f25a4-8483-4836-b231-c16731a6f27e",
   "metadata": {
    "tags": []
   },
   "outputs": [],
   "source": [
    "import numpy as np\n",
    "from keras.models import load_model\n",
    "from keras.models import load_model\n",
    "from keras.utils import np_utils\n",
    "import numpy as np\n",
    "import pandas as pd\n",
    "import tensorflow as tensor\n",
    "from skimage.transform import resize "
   ]
  },
  {
   "cell_type": "markdown",
   "id": "503bc1bb-aac3-4cf2-b376-7e199113686a",
   "metadata": {
    "tags": []
   },
   "source": [
    "### Load the trained model"
   ]
  },
  {
   "cell_type": "code",
   "execution_count": 3,
   "id": "793905a4-b5ee-440f-807d-edca657c1ffc",
   "metadata": {
    "tags": []
   },
   "outputs": [],
   "source": [
    "# Load the pre-trained CNN models\n",
    "model1 = load_model('Epilepsy.h5')\n",
    "model2 = load_model('Epilepsy2.h5')\n",
    "data = pd.read_csv('data.csv')\n",
    "x_values = data.values[:, 1:-1].reshape(-1, 178, 1)\n",
    "y_values = np.array(data['y'])\n",
    "y_values = np_utils.to_categorical(y_values)\n",
    "eeg_signal = data # Replace with your actual EEG signal"
   ]
  },
  {
   "cell_type": "markdown",
   "id": "01257fbe-a07f-4c99-a0e3-ae7b33d92772",
   "metadata": {
    "tags": []
   },
   "source": [
    "### Preprocess the data to give as an input to the trained model"
   ]
  },
  {
   "cell_type": "code",
   "execution_count": 4,
   "id": "169eff65-25c1-415e-83c1-a823025e4a1f",
   "metadata": {
    "tags": []
   },
   "outputs": [],
   "source": [
    "# Function to classify EEG signal as epileptic or non-epileptic\n",
    "# def classify_eeg_signal(eeg_signal):\n",
    "    # Preprocess the EEG signal\n",
    "preprocessed_signal=eeg_signal.values[1,1:46].reshape(45,1)\n",
    "preprocessed_signal=preprocessed_signal.astype(float)\n",
    "#print(preprocessed_signal)\n",
    "row_tensor = tensor.convert_to_tensor(preprocessed_signal)\n",
    "preprocessed_signal=row_tensor\n",
    "#print(preprocessed_signal.shape)\n",
    "    # Reshape the preprocessed signal to match the input shape expected by the models\n",
    "preprocessed_signal = np.reshape(preprocessed_signal, (1, *preprocessed_signal.shape))\n",
    "# print(preprocessed_signal.shape)"
   ]
  },
  {
   "cell_type": "markdown",
   "id": "686758fd-79cd-4aeb-aa7c-4f3d19bc3211",
   "metadata": {
    "tags": []
   },
   "source": [
    "### Predict Seizure for the given signals"
   ]
  },
  {
   "cell_type": "code",
   "execution_count": 5,
   "id": "93cf056f-b6e8-4365-bfe9-8fcbee230c11",
   "metadata": {
    "tags": []
   },
   "outputs": [
    {
     "name": "stdout",
     "output_type": "stream",
     "text": [
      "1/1 [==============================] - 1s 1s/step\n",
      "1/1 [==============================] - 1s 981ms/step\n"
     ]
    }
   ],
   "source": [
    "prediction1 = model1.predict(preprocessed_signal)\n",
    "prediction2 = model2.predict(preprocessed_signal)"
   ]
  },
  {
   "cell_type": "code",
   "execution_count": 14,
   "id": "8b8fa280-7b0a-47ad-b341-efdfdb6d5809",
   "metadata": {
    "tags": []
   },
   "outputs": [
    {
     "name": "stdout",
     "output_type": "stream",
     "text": [
      "Epileptic EEG\n"
     ]
    }
   ],
   "source": [
    "if prediction1[0][0] > prediction2[0][1]:\n",
    "    result = 'Epileptic EEG'\n",
    "else:\n",
    "    result = 'Non-epileptic EEG'\n",
    "    \n",
    "\n",
    "print(result)"
   ]
  },
  {
   "cell_type": "markdown",
   "id": "91103357-0c8c-4bc7-b1f7-e53ade615cee",
   "metadata": {
    "tags": []
   },
   "source": [
    "# Testing the model with our data"
   ]
  },
  {
   "cell_type": "markdown",
   "id": "6b40bcf7-99b6-4024-bdb1-96aaf381697f",
   "metadata": {
    "tags": []
   },
   "source": [
    "### Load the EEG signal"
   ]
  },
  {
   "cell_type": "code",
   "execution_count": 7,
   "id": "392a93b8-e6a2-4f7a-8044-79248cd898e1",
   "metadata": {
    "tags": []
   },
   "outputs": [],
   "source": [
    "from scipy.io import wavfile\n",
    "samplerate, data1 = wavfile.read('EEG2.wav')"
   ]
  },
  {
   "cell_type": "markdown",
   "id": "63ee1f52-bb1c-4a06-acc8-e7f780120255",
   "metadata": {
    "tags": []
   },
   "source": [
    "### Preprocessing"
   ]
  },
  {
   "cell_type": "code",
   "execution_count": 8,
   "id": "42a0edf8-8c09-40b6-aec9-6d7eadd7138d",
   "metadata": {
    "tags": []
   },
   "outputs": [],
   "source": [
    "data = np.array([data1[1:46]])\n",
    "data=data.astype(float)\n",
    "row_tensor = tensor.convert_to_tensor(data)\n",
    "data=row_tensor\n",
    "#print(data.shape)\n",
    "    # Reshape the preprocessed signal to match the input shape expected by the models\n",
    "preprocessed_signal = np.reshape(data, (1, *data.shape))\n",
    "#print(data.shape)"
   ]
  },
  {
   "cell_type": "markdown",
   "id": "430bc2f4-53be-43e7-96ff-e813a6d7d746",
   "metadata": {
    "tags": []
   },
   "source": [
    "### Prediction"
   ]
  },
  {
   "cell_type": "code",
   "execution_count": 9,
   "id": "6e38d1aa-8540-4b96-827d-1a29c2a89271",
   "metadata": {
    "tags": []
   },
   "outputs": [
    {
     "name": "stdout",
     "output_type": "stream",
     "text": [
      "1/1 [==============================] - 1s 980ms/step\n",
      "1/1 [==============================] - 1s 990ms/step\n"
     ]
    }
   ],
   "source": [
    "prediction11 = model1.predict(data)\n",
    "prediction22 = model2.predict(data)"
   ]
  },
  {
   "cell_type": "code",
   "execution_count": 12,
   "id": "17929cc0-0c34-4747-9e6b-d6788c217656",
   "metadata": {
    "tags": []
   },
   "outputs": [
    {
     "name": "stdout",
     "output_type": "stream",
     "text": [
      "Non-epileptic EEG\n"
     ]
    }
   ],
   "source": [
    "i=2\n",
    "if prediction11[0][i] > prediction22[0][i]:\n",
    "    result = 'Epileptic EEG'\n",
    "else:\n",
    "    result = 'Non-epileptic EEG'\n",
    "    \n",
    "print(result)"
   ]
  },
  {
   "cell_type": "code",
   "execution_count": null,
   "id": "327487a2-e5b2-4756-be8f-cd9b4d7937dc",
   "metadata": {},
   "outputs": [],
   "source": []
  }
 ],
 "metadata": {
  "kernelspec": {
   "display_name": "Python 3 (ipykernel)",
   "language": "python",
   "name": "python3"
  },
  "language_info": {
   "codemirror_mode": {
    "name": "ipython",
    "version": 3
   },
   "file_extension": ".py",
   "mimetype": "text/x-python",
   "name": "python",
   "nbconvert_exporter": "python",
   "pygments_lexer": "ipython3",
   "version": "3.11.2"
  }
 },
 "nbformat": 4,
 "nbformat_minor": 5
}
